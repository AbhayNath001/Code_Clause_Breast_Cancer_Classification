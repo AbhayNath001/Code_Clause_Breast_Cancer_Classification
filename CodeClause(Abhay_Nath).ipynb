{
  "nbformat": 4,
  "nbformat_minor": 0,
  "metadata": {
    "colab": {
      "provenance": [],
      "authorship_tag": "ABX9TyMuSgSevcNyWMw2uRrkUfTE",
      "include_colab_link": true
    },
    "kernelspec": {
      "name": "python3",
      "display_name": "Python 3"
    },
    "language_info": {
      "name": "python"
    }
  },
  "cells": [
    {
      "cell_type": "markdown",
      "metadata": {
        "id": "view-in-github",
        "colab_type": "text"
      },
      "source": [
        "<a href=\"https://colab.research.google.com/github/AbhayNath001/Code_Clause_Breast_Cancer_Classification/blob/main/CodeClause(Abhay_Nath).ipynb\" target=\"_parent\"><img src=\"https://colab.research.google.com/assets/colab-badge.svg\" alt=\"Open In Colab\"/></a>"
      ]
    },
    {
      "cell_type": "code",
      "execution_count": 2,
      "metadata": {
        "id": "jWfEzGzxSope",
        "colab": {
          "base_uri": "https://localhost:8080/"
        },
        "outputId": "a6a21219-bbad-433e-97f0-f8415585a9a7"
      },
      "outputs": [
        {
          "output_type": "stream",
          "name": "stdout",
          "text": [
            "Accuracy: 0.9035087719298246\n",
            "Enter mean radius: 9.504\n",
            "Enter mean texture: 12.44\n",
            "Enter mean perimeter: 60.34\n",
            "Enter mean area: 273.9\n",
            "Enter mean smoothness: 0.1024\n",
            "Prediction: It maybe a sign of breast cancer.\n"
          ]
        }
      ],
      "source": [
        "import pandas as pd\n",
        "from sklearn.model_selection import train_test_split\n",
        "from sklearn.neighbors import KNeighborsClassifier\n",
        "\n",
        "# Load the data from the CSV file\n",
        "data = pd.read_csv('Breast_cancer_data.csv')\n",
        "\n",
        "# Select the features (mean_radius, mean_texture, mean_perimeter, mean_area, mean_smoothness)\n",
        "features = data[['mean_radius', 'mean_texture', 'mean_perimeter', 'mean_area', 'mean_smoothness']]\n",
        "# Select the target variable (diagnosis)\n",
        "target = data['diagnosis']\n",
        "\n",
        "# Split the data into training and testing sets\n",
        "X_train, X_test, y_train, y_test = train_test_split(features, target, test_size=0.2, random_state=42)\n",
        "\n",
        "# Create the KNN classifier with k=3\n",
        "knn = KNeighborsClassifier(n_neighbors=3)\n",
        "\n",
        "# Train the classifier\n",
        "knn.fit(X_train, y_train)\n",
        "\n",
        "# Predict the diagnosis for the test data\n",
        "y_pred = knn.predict(X_test)\n",
        "\n",
        "# Check the accuracy of the classifier\n",
        "accuracy = knn.score(X_test, y_test)\n",
        "print('Accuracy:', accuracy)\n",
        "\n",
        "# Example prediction for new data entered by the user\n",
        "mean_radius = float(input('Enter mean radius: '))\n",
        "mean_texture = float(input('Enter mean texture: '))\n",
        "mean_perimeter = float(input('Enter mean perimeter: '))\n",
        "mean_area = float(input('Enter mean area: '))\n",
        "mean_smoothness = float(input('Enter mean smoothness: '))\n",
        "\n",
        "new_data = pd.DataFrame([[mean_radius, mean_texture, mean_perimeter, mean_area, mean_smoothness]], columns=['mean_radius', 'mean_texture', 'mean_perimeter', 'mean_area', 'mean_smoothness'])\n",
        "prediction = knn.predict(new_data)\n",
        "if prediction == 1:\n",
        "  print('Prediction: It maybe a sign of breast cancer.')\n",
        "else:\n",
        "  print('Prediction: It maybe not a sign of breast cancer.')\n"
      ]
    }
  ]
}